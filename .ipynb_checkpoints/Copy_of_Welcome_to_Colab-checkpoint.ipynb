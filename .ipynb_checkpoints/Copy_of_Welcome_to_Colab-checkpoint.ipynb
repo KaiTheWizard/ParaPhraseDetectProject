{
  "cells": [
    {
      "cell_type": "markdown",
      "metadata": {
        "id": "view-in-github",
        "colab_type": "text"
      },
      "source": [
        "<a href=\"https://colab.research.google.com/github/KaiTheWizard/ParaPhraseDetectProject/blob/main/Copy_of_Welcome_to_Colab.ipynb\" target=\"_parent\"><img src=\"https://colab.research.google.com/assets/colab-badge.svg\" alt=\"Open In Colab\"/></a>"
      ]
    },
    {
      "cell_type": "markdown",
      "source": [
        "# Installing and Loading Libraries"
      ],
      "metadata": {
        "id": "czxnmyB8LCXC"
      }
    },
    {
      "cell_type": "code",
      "source": [
        "!pip install datasets transformers scikit-learn torch pandas"
      ],
      "metadata": {
        "id": "cBuAS05XLIer"
      },
      "execution_count": null,
      "outputs": []
    },
    {
      "cell_type": "code",
      "source": [
        "import torch\n",
        "import numpy as np\n",
        "import pandas as pd\n",
        "from datasets import load_dataset\n",
        "from transformers import AutoTokenizer, AutoModel\n",
        "from sklearn.metrics.pairwise import cosine_similarity, euclidean_distances\n",
        "from sklearn.ensemble import RandomForestClassifier\n",
        "from sklearn.model_selection import train_test_split\n",
        "from sklearn.metrics import accuracy_score, classification_report\n",
        "import pickle"
      ],
      "metadata": {
        "id": "kt0WZM09MGZN"
      },
      "execution_count": null,
      "outputs": []
    },
    {
      "cell_type": "markdown",
      "source": [
        "# Data Loading and Preprocessing\n"
      ],
      "metadata": {
        "id": "tx0IfqU7KPQD"
      }
    },
    {
      "cell_type": "code",
      "source": [
        "# Load QQP dataset\n",
        "dataset = load_dataset(\"glue\", \"qqp\", split=\"train\").to_pandas()"
      ],
      "metadata": {
        "id": "1OsWTcTzK4zL"
      },
      "execution_count": null,
      "outputs": []
    },
    {
      "cell_type": "code",
      "source": [
        "dataset.shape"
      ],
      "metadata": {
        "id": "5gsNS8mcK5IT"
      },
      "execution_count": null,
      "outputs": []
    },
    {
      "cell_type": "markdown",
      "source": [
        "## Displaying the first and last 5 samples of the training data"
      ],
      "metadata": {
        "id": "7gXNV5IMNQc_"
      }
    },
    {
      "cell_type": "code",
      "source": [
        "dataset.head()"
      ],
      "metadata": {
        "id": "KW3x0So8M2x1"
      },
      "execution_count": null,
      "outputs": []
    },
    {
      "cell_type": "code",
      "source": [
        "dataset.tail()"
      ],
      "metadata": {
        "id": "rSh3UfNTM203"
      },
      "execution_count": null,
      "outputs": []
    },
    {
      "cell_type": "markdown",
      "source": [
        "## Checking for missing, null and duplicate values"
      ],
      "metadata": {
        "id": "oJ40TBXRSExE"
      }
    },
    {
      "cell_type": "code",
      "source": [
        "dataset.info()"
      ],
      "metadata": {
        "id": "vT2fk5AnOCvA"
      },
      "execution_count": null,
      "outputs": []
    },
    {
      "cell_type": "code",
      "source": [
        "dataset.isnull().sum()"
      ],
      "metadata": {
        "id": "955E21-1OKfx"
      },
      "execution_count": null,
      "outputs": []
    },
    {
      "cell_type": "code",
      "source": [
        "dataset.duplicated().sum()"
      ],
      "metadata": {
        "id": "yokVd5A8OODI"
      },
      "execution_count": null,
      "outputs": []
    },
    {
      "cell_type": "markdown",
      "source": [
        "## Counting Total number of unique words in the QQP data"
      ],
      "metadata": {
        "id": "jkAdlotmDYsS"
      }
    },
    {
      "cell_type": "code",
      "source": [
        "from transformers import DistilBertTokenizer  # importing tokenizer\n",
        "from datasets import load_dataset\n",
        "\n",
        "# Load tokenizer and dataset\n",
        "tokenizer = DistilBertTokenizer.from_pretrained('distilbert-base-uncased')\n",
        "dataset = load_dataset(\"glue\", \"qqp\")  # Make sure this is included\n",
        "\n",
        "# Collect unique tokens from all splits\n",
        "unique_tokens = set()\n",
        "splits = ['train', 'validation', 'test']\n",
        "\n",
        "for split in splits:\n",
        "    for example in dataset[split]:\n",
        "        if example.get('question1'):\n",
        "            unique_tokens.update(tokenizer.tokenize(example['question1']))\n",
        "        if example.get('question2'):\n",
        "            unique_tokens.update(tokenizer.tokenize(example['question2']))\n",
        "\n",
        "# Save unique tokens to a file\n",
        "with open(\"unique_tokens.txt\", \"w\") as file:\n",
        "    for token in sorted(unique_tokens):\n",
        "        file.write(f\"{token}\\n\")\n",
        "\n",
        "print(f\"Total unique tokens: {len(unique_tokens)}\")"
      ],
      "metadata": {
        "colab": {
          "base_uri": "https://localhost:8080/"
        },
        "id": "51T_MkqE_5Xe",
        "outputId": "ad2aa6b0-953a-4dc0-f496-b054d5e58cd7"
      },
      "execution_count": null,
      "outputs": [
        {
          "output_type": "stream",
          "name": "stdout",
          "text": [
            "Total unique tokens: 25677\n"
          ]
        }
      ]
    },
    {
      "cell_type": "markdown",
      "source": [
        "## Calculating the optimal no. of embedding dimensions"
      ],
      "metadata": {
        "id": "hluf0PzxQbxj"
      }
    },
    {
      "cell_type": "code",
      "source": [
        "# Calculate optimal embedding dimensions\n",
        "nw = len(unique_tokens)\n",
        "dimensions = min(10 * np.ceil(np.log10(nw)), 300)\n",
        "print(f\"Total unique tokens: {nw}\")\n",
        "print(f\"Optimal number of dimensions per token: {int(dimensions)}\")"
      ],
      "metadata": {
        "id": "1OBponZ1QYea"
      },
      "execution_count": null,
      "outputs": []
    },
    {
      "cell_type": "markdown",
      "source": [
        "## Spliting data"
      ],
      "metadata": {
        "id": "naxjlyxPNpHe"
      }
    },
    {
      "cell_type": "code",
      "source": [
        "train_df = dataset['train'].to_pandas()\n",
        "validation_df = dataset['validation'].to_pandas()\n",
        "test_df = dataset['test'].to_pandas()"
      ],
      "metadata": {
        "id": "06N98CKMM2sV"
      },
      "execution_count": null,
      "outputs": []
    },
    {
      "cell_type": "code",
      "source": [
        "print(f\"Shape of training data is : {train_df.shape}\")\n",
        "print(f\"Shape of testing data is : {test_df.shape}\")\n",
        "print(f\"Shape of validation data is : {validation_df.shape}\")"
      ],
      "metadata": {
        "id": "KvLXZ7BhM2vW"
      },
      "execution_count": null,
      "outputs": []
    },
    {
      "cell_type": "markdown",
      "source": [
        "# Embedding Generation"
      ],
      "metadata": {
        "id": "c_rmn7aQKjnC"
      }
    },
    {
      "cell_type": "code",
      "source": [
        "# Models for embeddings\n",
        "models = [\n",
        "    \"sentence-transformers/all-MiniLM-L6-v2\",\n",
        "    \"sentence-transformers/paraphrase-MiniLM-L6-v2\",\n",
        "    \"bert-base-uncased\",\n",
        "    \"roberta-base\",\n",
        "    \"microsoft/deberta-v3-base\"\n",
        "]"
      ],
      "metadata": {
        "id": "AvXbsMGRMR4t"
      },
      "execution_count": null,
      "outputs": []
    },
    {
      "cell_type": "code",
      "source": [
        "import torch.nn.functional as F\n",
        "\n",
        "def get_embeddings(text, model_name, tokenizer, model):\n",
        "    inputs = tokenizer(text, return_tensors=\"pt\", padding=True, truncation=True, max_length=128)\n",
        "    with torch.no_grad():\n",
        "        outputs = model(**inputs)\n",
        "\n",
        "    embedding = outputs.last_hidden_state[:, 0, :]  # Extract CLS token embedding\n",
        "\n",
        "    # Project to 50 dimensions if needed\n",
        "    if embedding.shape[1] != 50:\n",
        "        embedding = F.adaptive_avg_pool1d(embedding.unsqueeze(0), 50).squeeze(0)\n",
        "\n",
        "    return embedding.numpy().flatten()"
      ],
      "metadata": {
        "id": "UD9GzBjGp20f"
      },
      "execution_count": null,
      "outputs": []
    },
    {
      "cell_type": "code",
      "source": [
        "# Compute embeddings\n",
        "embedding_data = {}\n",
        "for model_name in models:\n",
        "    print(\"\"\\n)\n",
        "    print(f\"Processing {model_name}...\")\n",
        "    tokenizer = AutoTokenizer.from_pretrained(model_name)\n",
        "    model = AutoModel.from_pretrained(model_name)\n",
        "\n",
        "    q1_embeddings = np.array([get_embeddings(q, model_name, tokenizer, model) for q in dataset['question1']]) #[:1000]\n",
        "    q2_embeddings = np.array([get_embeddings(q, model_name, tokenizer, model) for q in dataset['question2']]) #[:1000]\n",
        "\n",
        "    np.save(f\"{model_name.replace('/', '_')}_q1.npy\", q1_embeddings)\n",
        "    np.save(f\"{model_name.replace('/', '_')}_q2.npy\", q2_embeddings)\n",
        "\n",
        "    embedding_data[model_name] = (q1_embeddings, q2_embeddings)"
      ],
      "metadata": {
        "colab": {
          "base_uri": "https://localhost:8080/",
          "height": 1000,
          "referenced_widgets": [
            "0d9755d9b37b4d9b95657aed5e2a3501",
            "fbd4f8f20b15421fb738d7d5d1286459",
            "baccb7c582744ea683c7ecf36dc9fb93",
            "2a67a88155a74b81b9bd585c5f2c9a33",
            "c2e39a8889aa47199972349ee2afe446",
            "18b074406f7d4ff2bf205706733afa9f",
            "357786985c824ad0940a7e384fba4467",
            "7630906693794932b5ee74904f4417e4",
            "b6ac6dcca7b14f9392eba4d3de058b18",
            "97ea2dcc7da54e03a860cb41d1bac0af",
            "9c4de6d8705a425eab92295f5f929ed8",
            "0fa08a9b099b427c8b14e8b32b502066",
            "8846b8e3a78446d5a4d9f4f8a6fdf391",
            "30003fbd4f0c48388937d0932eeb58a9",
            "166af1127e864f499e9b69a36f67b7ac",
            "31bccc7da5a149c4b76e7b394cf6a707",
            "1103bfd84cf64aca878ff633ebaeddef",
            "ecc914334db8434b97ab13a087a10190",
            "568d50307e4b4061900637eff448edb8",
            "39978677af474a7d801e8bb269eefeaf",
            "5b65fed3f81c439ba8ad90072f5e53bf",
            "74f8d3792fd84e308432f5ae0828105b",
            "cb563bae133e4f848b071368b4cb7ab8",
            "23d27ac748504e2e87c655959c0870d5",
            "f61ffe0f560945a7b946907dd89559a0",
            "e7895d046d9144408d4784d082c020c6",
            "db1f35f1063d4d178a1a5ee8e1abe005",
            "c560fc190e3c48f2a9e3a4fa6c5406b9",
            "3d44c62810334bdc887de767d754f39a",
            "ed3e2ccd58154845ba8d8ebbe1639108",
            "7c735699ba6d42cc806f2759f22bdc38",
            "ad50dc6030d7497fbebf5bea95f77176",
            "89f5985c8a784ee0a983c4e544ebdafb",
            "18b953fc825f4fbd969c77c0595e5ca8",
            "c3cda70184884691b4bc4fa929814412",
            "37e14a913bf84341981fe350a2f3001d",
            "f3597f6e79f04d51a537c66a6022acef",
            "f6549a2500304348b08ad04f9b9f4839",
            "0d6f3f0828434a69a54369cf9dd6f3f1",
            "78c929f614f04c2ba378efd2f46061ca",
            "38cf5ea7987f4d889d315b4823761bfb",
            "897c477c898f4a84996a03643402d01f",
            "c02793ab0cc442d692572180c5e62972",
            "a380148a95874d4f8a33315a492852cd",
            "d91eb8db10be47e89c9a14b258dc190b",
            "8393c4bbf9c949458e232d0da45f47ab",
            "a51680192bc3497bae5b5336674f8492",
            "782f8958acf842c8b2c54c7d99833663",
            "edd6bd71f0174e9797ad353e083fe470",
            "dd400f1e6af644ba896319760a0b88b4",
            "bc173e3b005b45d2bae8f6da1b3d8a16",
            "4722da2f0bd84cc6a4516ab9cbbe7818",
            "53c62279abe2459b8d5937c458b4ab1c",
            "c71e1969483c4cdeada81b1306fae323",
            "37e7edc274174e2cb628ccd397bc67dc",
            "a9401d4146804788aa9e29b328e4cab9",
            "188205f89f614731aaca619ab8ec12b6",
            "2dc6de9cbddd4f1b9ed12c870d2f506c",
            "0785dc4005ed4b31b0cd695b582f282b",
            "b6fdd4a5cb314801992a4b78a1a05625",
            "680d3b0efa3846f0939d0c948995de2d",
            "99399248908846fea719ddcba1bf9aff",
            "586b57fc168b4d35838b923fb0f5201a",
            "b4e160a81bae4e66bddfd0482ad9c221",
            "7523a961c1ba4016bad704db1a9fd630",
            "a8f182d8655f4ba8a091052cc3df2e50",
            "b16e55dfcfba4bc296cc0a31e7d0924c",
            "4e25e8ad25fc419aa9536e978415f004",
            "c061ed87c3a44a4c8dda9efe96b66628",
            "845e87ca45b04a829669e67014730fcf",
            "5f14437ee23744288fa02ec2f3c29d79",
            "0d08cfc74f564cb587ef3e02d386778b",
            "3bbc90e3dadd46148ed3045b98486e4c",
            "d0ebce0938a64934a6548b263edfe146",
            "afe51dac1e304980a47adc62cccb7703",
            "dae048ea7ba443fa85abfa5d4669a103",
            "c1b2c341e0a44ef7be98bfae70aea5c9",
            "a232f31e339c43e2ac21a4e4ed78d5f2",
            "76df62b612b6475ea5c2df741236e94f",
            "6fa41bea48d346c2990999b875afe155",
            "ab813cd9f4fc40b5974ad79376d75a16",
            "dab19813b57248b8a97752dd7f493438",
            "e2f0a866b6004b3b8943e4077cf6afef",
            "6d70392f3de94250aad19638bfd75886",
            "4320312a3edf4995ae6423864d62277f",
            "6a771a9d6cde486c89ac05f301eb974b",
            "1a71fbdbcf2543ed9872d5b529753023",
            "8914feb1787141348845705af4ec4553",
            "7fabc76c2ada46f084600bd20d4e53f1",
            "c1ba75d023434d72bc89617e563f099b",
            "a0772ec508684643960a6d59386f8594",
            "5d92eb01eca846a4b4cff2baef692e49",
            "6cc9e0033238439bb419cd671c4bf0c2",
            "6b877fb760f14b6c8d54b06c61b6dc40",
            "80bacdb5da5c45cdb4bf796761f7bdf2",
            "3ff99956a2e24aa88e88fefe4a8be32f",
            "08ae6e08e6a043e1bb71379e586139a4",
            "ecbd1434e6a944118b998c9614c569dc",
            "743fd6e5d494447f8a079a0faf168c2b",
            "a12641e4239446e6a16983216696df36",
            "b11c4242bc7f4073922dd6d837906e39",
            "8fdd0dfba8414233b6475940257f6fa4",
            "5fe4bf49da0b4a869bc33581a8e3c205",
            "5ab5ce3975b14ff8b7b49bcb6fdb7950",
            "9e61bd4ed14a4d5a8b41b0815730f0de",
            "e6faa440a9e44b9598caaaf853cf5823",
            "4f4fef81d3ef49d188d3a35c3680f73f",
            "eaaa23141e954756aec1acf9787dc1a6",
            "4e1b68e9313c4ddb9cf3bbb20250a793",
            "008862e046764910a67eb40663a59dda",
            "be0eadd52d8343b682f579ccfdf9ca38",
            "ae495763f6f14dbfb0e34ad63dc7a915",
            "de1fe4a7a60a4d9babdb2e768e5f0b1b",
            "43e70035476a4a699c2f699b0f93ef55",
            "0eebf55a138344f38e743f726ce66321",
            "88cd774e09e8413f827595f2c277d3ff",
            "e91d397e06a549478426d02d9775cdf8",
            "7abdc11593be432dbc1f84601baaf458",
            "c36c4fc99e124b0b9b520ba6e66f4b75",
            "4efc6a6a489d4065af28627f13c4cf9d",
            "9eca281981644ac595d914b2e06b818b",
            "3cf78162b9654c889148da2eacdecd2b",
            "4f2ec9dd420a4fa7aad97fb1f756198d",
            "78c86b8f80be454388e37f4b16b01c10",
            "e53c87aecc34400898f7136960db8695",
            "56b1205a1ea34f5593f9bde0e908a615",
            "6ce2e858c1ec435e9ca1651aca0dd89f",
            "c9379a38f198446889c49cd72e3b3f2f",
            "51cdd89c09b94a6eba159560f84822bc",
            "c6bfd407ac27472f97b42d1d8df5ba3b",
            "92412084c75a4451955fa30cb61f238b",
            "eef5e9873d334af3bccb7929983e7a5d",
            "2cb5723e7d04498792d737f59d7ea7ee",
            "6fe4448b96db44d5813fc7c7475c0def",
            "2cdf14ceaf804c859f486d8449db18ea",
            "2781bc0bec2b4da5bc7827da6316f4a1",
            "50e71e5677b5438d9ed626f25df1a31f",
            "819f54d379b84c84b672ddb97a0674ef",
            "bb2976cf7cdb439895d935e30b48222f",
            "de0512b09b9e4934aeb7072bc87f01e4",
            "6d7d0309d28f45ada27d4a1f8b4f51a1",
            "245265f2998f4462a2f1fff207c6017f",
            "9e154aa818fb4e669a494d4ac31fc37d",
            "b2def4b0369b4a3da2c27f29245d7a99",
            "bcec7993373d42549555b460ad736979",
            "1bdf8e6da91b49ac8b1269fdb9749810",
            "9ce6a86caf6044cd9951a410e18dd863",
            "06eeee37f9444463bed31eda2dbea93c",
            "970845aad7f64db18f8491d69178c701",
            "65fbefb3744e4db78c46ec927817186b",
            "b8aaecd007d744d38cb5a1049f55268a",
            "5ffeb3b304b34bd3ab82eed7d6ea0279",
            "13dc1dc76ad14b86afe794951368de28",
            "ef7b208dd3014770aca9d0cd6aa9b59b",
            "08e380e559e0414abccc777a2328b194",
            "397dd2e397864fc784f72702aed51c0e",
            "7f32941936a946549d43a380574bfd98",
            "0e527f040b46476fb4ac46ac30003b87",
            "aa3a8236bd9a4cfaac7af79791296051",
            "face7958baf84792945773332a1fd7d0",
            "e48f4698c3a4426ebed2045481295e36",
            "7fd888e506ea4a19b857cc011b240fab",
            "a286f9b971fa47719cecabbb9e004ef6",
            "6e47cede49ff491989928e427ae89a91",
            "4fd1391d48f7428d899c0fbf5dd1aed9",
            "c7a5f1c158da4f769f7324fc5265e167",
            "b83cdd37eb6a472a81d77c0e412de673",
            "056c62b6dab5468b895ab7032a13a92f",
            "cba51a721b704d648d3743af4e3a1996",
            "542651c1c99c4459b696ec93b28e1e91",
            "eddb8c9fe0454fe8b2a264080bc108a2",
            "c32ccd412a874e5d8b3bf8a80640a042",
            "a530aa99854c4aab8df9c4c66177b5ed",
            "80abb1fea01048728b03b96d186d35fa",
            "be8866143c514deead8fdb56f50d60fa",
            "76b5e90c433249fdb2fed454191594ec",
            "239835f876b4419faeec049f6d42c3fd",
            "f7ff04e72e0c48148c70b9948c14f49d",
            "fc404642c2f84f1cad3afed963dcad7b",
            "7339a0fcb1f1425b8f59591f89648d87",
            "8a390fc740b142a889e9676c2796c223",
            "c226df4401b34096b16cada9a51d0335",
            "5e0b5b8decab4170ac5c68725ef156f3",
            "fdb7de6390f747f3acdb28bd13666526",
            "9a6ac21af2e74819a84675bf35795eba",
            "d8c74591f6324843b6b142ddab79e9a9",
            "9d9c2dc681a54a1fbaced551a348c9cd",
            "388bf153d39345cea1a8659acef746ff",
            "dda9b5cf894047b1ac10d4dfb27d66ea",
            "041824c67af34d7196271392c5450c2f",
            "85f44e2132c24aa5b2313f97257ee474",
            "7620c5926b0347bbb1472c92264f7cf2",
            "ee9d8a536dfd4b6d84d075c2037c89b3",
            "093da740ab0c4de2a74f950a2a8ec403",
            "4367805588604f538b8cc4ea1383df4b",
            "90936bfb965d492faeb39873f4045c30",
            "5b1e6e5475084ddba3863935f7617cd5",
            "f51a0e3a55fe44b49f757ed9f896b053",
            "f912f87701dc4a47833dd4c536e2d508",
            "b9f355ecf9774930aab7e5b719993562",
            "0818da73cd12460899ba590ed069c75c",
            "fb99cf7c6120405b9ee467c55991b217",
            "618e055d4a7f4b43b8b43e11892200e0",
            "a5e0c8b6140140d0a6c7f64482964200",
            "053056e5f9e04e72aae37f6efa55ef86",
            "a05b249fb06542149f83aa80452fbc91",
            "a055adf94f634533943efe09c437246c",
            "a99ce1bb79174c489b384b1520b09e19",
            "67088c6b185a438fb2e071cbe2fa5a7b",
            "5e63cd1e20b74a2daafaeee0dd20e9d0",
            "2c33493367ac47cf98ebdb1ae81c418d",
            "cf51ac087a564105a945bd1844d3b1f5",
            "fb2d96eecdae4bfc9eef9f14ab1f2b6d",
            "320e4d5342134285a1ccdcd5d4944980",
            "f15f9113c3cf442da81a1b397cdc8290",
            "759742e56468441d82937a7482437e74",
            "dfb1d48256b944d6929977babd7f2173",
            "351b7dca1f0b401f9977d07dad91d6fe",
            "a9b017dd13914a0a9b3a32f5a1e756a5",
            "5d8dd221fc30489f9add0520aeb08bb0",
            "86bf535746754e159da29a038adeef50",
            "490e16be88d54875a418b365122d2dc6",
            "bfcc448aa65542359adc1b20826242ae",
            "7c6779a4200847cea79fedaf743c2908",
            "21e60d35a0574e22a8341c858baf14e7",
            "42623bc267704f5d9dbb38fe844b0317",
            "7fdb479801e74f1095c0f82101267d5b",
            "3965635ab93247a29c21dacaa4e86c8c",
            "32982ad1df5142b28ccab6ada1106ce3",
            "03f0c44be1a24c679e0af44a72e33472",
            "56a8fcc22a3544e9b6e9eef04e67ea66",
            "88f3fed32a5348b0bd0b5cbc08c4c668",
            "fcce91c374414b8d9b19400de764ad36",
            "883eeb13a63b4217ac3afbbbb7fca010",
            "8d8f0c87c72c45eeb9bef5d5b06adc0e",
            "3a8d74e96b914fbc95c8f447500d36d9",
            "2c18eb0bfb7e46679764bc49034b965b",
            "20f6a1adc82b4d749b1797a313dba84c",
            "cde9bfcd50d843358353780c9f3c8181",
            "9ec7786f6aca411bb2f595f5efca474f",
            "1e037ff217164f26a5a4012f140dc5da",
            "fe278344135e4461948166c4ee9c0e21",
            "14ca3048b82b43e8ac30dc29d4b8e299",
            "0e32440af2b84582802621cc0a0bc479",
            "11a367b3eb454f0182f426c097986976",
            "f1a32c3875f84b02a1c7fca7c34d82d4",
            "4570e755e31c4e799391fac5b3469bb4",
            "f48212c58dbf470ab81876f2d013f2c1",
            "17c1928f9ad54f6da17766c4f2641dbc",
            "ce633ddbef644db387a6d29d3f56e1bb",
            "d555531b940b482f9556edda391f77d5",
            "bcf155f666954ff0b90a0ed07e17f6e6",
            "03fd223d6db74049b1123beb295b9ceb",
            "de36f5fed0d9473c960495ab419adaed",
            "b7de3ae144634732b62663306bd7b264",
            "bcb4a2ae07d648d282089629f22628ce",
            "38903ee6d41e4aa3b2ac61d03fd11f3e",
            "63c72b17ae404090b5c0e442ababd2c5",
            "9946b786d3da4475a8072f8187e22a31",
            "efcd362e6b5b479f9a5f6bdf1bd6f62b",
            "2a7361d2d2bb468abe2793c0774b9c99",
            "0210152007484029a9e8950c97ec346e",
            "d0f5d51a797149808d15f62fd1bd4f5a",
            "78977d46c8b24f56aaafbec22ccccb20",
            "b565fc233e0c464b9ad43ba57a4afe6f",
            "30c4f854406c485ea0089b722e1d462a",
            "82ba8156c6cb497098d27d0262332f43",
            "3caa11d96577449e8e670a41256197d0",
            "31e36756f48d476db642ba6a68569e44",
            "555944f5cc7c45168ce8bef6cea63d97",
            "844a4001dc744bbbac16fb49f5950467",
            "5e149026b7d34ca3b4634ce2395363ca",
            "2aa3814c7d264a34ab5a266f8bf1a91b",
            "6cbe93793ce04a6eb2a8c5d733166e9c",
            "c5dbb7f57d1a4785bf4cfd9a0b07b102",
            "fe1e782cee5d42dba0d610bcccfe98d0",
            "b269eb1c406c4e7d862ede817f663e7a",
            "ebbe3815607c4756b6dcea0cae480929",
            "82ff3f9909cf4ae9b2649d5013d4b694",
            "7b9432b518d14c6093294e83b7873745",
            "9c476e4cb52a4fe29cdf2f5ebaab4789",
            "1fd165377e5e4cd58baa03c58ecf8f52",
            "5f2e9b38679c4162b9e5034632869260",
            "0834738402a244ad81dc77c582f23ed2",
            "ae89551e67bb4f2d853d80dfb7ec94ef",
            "29f7e578352c4401a9ceadafa591db81",
            "590e0cea615a45c99f2d8ff4bb5d49c1",
            "1bde2973774c4165bcc9920688723939",
            "7fdf469c18b54da8971b2ec165f805a8",
            "b54b5716333842b0b0303def3d5d6dd1",
            "8ad192fe70864a70b6d544c66eb5dd26",
            "94a769160f494ab4bd7d8a6c23b2229c",
            "9a08e06b43a9467d8d623e74b3bbf3b8",
            "a3fcb3229d694e72833813facbdb9071",
            "c2682e3f748f4f7daf49c713b7070aca",
            "7ace61fd40e74fb985d4e0cbeb68c2d3",
            "3a48404a0bfa4a75b9dd069138e1b418",
            "42a270fb2ae0471d8ead82777e4921b9",
            "2737f596647d457796a758579fcf8b86",
            "1a562fa0e504429eab5e61b3e92e92b9",
            "a60a1b793eb1430098bd8218c15f8416",
            "2ae98d0f8fa6436ba906c22f00a5a0c6",
            "86dd490802af47c3ba292f1a7aaf29b0",
            "fad84bac3f644006869e14c72def62fe",
            "5a2eb4956fc94bad9720184c2ab83f2f",
            "be935309dc974cef906905d2a53045b4",
            "d93b5f71d8344ab58a1b9d9f6aeaa812",
            "5b8da4cfd9b54d17b8ea16e6b2ef884e"
          ]
        },
        "id": "yMeMg9GCLtB3",
        "outputId": "e6ed72b9-9b62-488c-9b34-af03df0a9059"
      },
      "execution_count": null,
      "outputs": [
        {
          "output_type": "stream",
          "name": "stdout",
          "text": [
            "Processing sentence-transformers/all-MiniLM-L6-v2...\n"
          ]
        },
        {
          "output_type": "display_data",
          "data": {
            "text/plain": [
              "tokenizer_config.json:   0%|          | 0.00/350 [00:00<?, ?B/s]"
            ],
            "application/vnd.jupyter.widget-view+json": {
              "version_major": 2,
              "version_minor": 0,
              "model_id": "0d9755d9b37b4d9b95657aed5e2a3501"
            }
          },
          "metadata": {}
        },
        {
          "output_type": "display_data",
          "data": {
            "text/plain": [
              "vocab.txt:   0%|          | 0.00/232k [00:00<?, ?B/s]"
            ],
            "application/vnd.jupyter.widget-view+json": {
              "version_major": 2,
              "version_minor": 0,
              "model_id": "0fa08a9b099b427c8b14e8b32b502066"
            }
          },
          "metadata": {}
        },
        {
          "output_type": "display_data",
          "data": {
            "text/plain": [
              "tokenizer.json:   0%|          | 0.00/466k [00:00<?, ?B/s]"
            ],
            "application/vnd.jupyter.widget-view+json": {
              "version_major": 2,
              "version_minor": 0,
              "model_id": "cb563bae133e4f848b071368b4cb7ab8"
            }
          },
          "metadata": {}
        },
        {
          "output_type": "display_data",
          "data": {
            "text/plain": [
              "special_tokens_map.json:   0%|          | 0.00/112 [00:00<?, ?B/s]"
            ],
            "application/vnd.jupyter.widget-view+json": {
              "version_major": 2,
              "version_minor": 0,
              "model_id": "18b953fc825f4fbd969c77c0595e5ca8"
            }
          },
          "metadata": {}
        },
        {
          "output_type": "display_data",
          "data": {
            "text/plain": [
              "config.json:   0%|          | 0.00/612 [00:00<?, ?B/s]"
            ],
            "application/vnd.jupyter.widget-view+json": {
              "version_major": 2,
              "version_minor": 0,
              "model_id": "d91eb8db10be47e89c9a14b258dc190b"
            }
          },
          "metadata": {}
        },
        {
          "output_type": "display_data",
          "data": {
            "text/plain": [
              "model.safetensors:   0%|          | 0.00/90.9M [00:00<?, ?B/s]"
            ],
            "application/vnd.jupyter.widget-view+json": {
              "version_major": 2,
              "version_minor": 0,
              "model_id": "a9401d4146804788aa9e29b328e4cab9"
            }
          },
          "metadata": {}
        },
        {
          "output_type": "stream",
          "name": "stdout",
          "text": [
            "Processing sentence-transformers/paraphrase-MiniLM-L6-v2...\n"
          ]
        },
        {
          "output_type": "display_data",
          "data": {
            "text/plain": [
              "tokenizer_config.json:   0%|          | 0.00/314 [00:00<?, ?B/s]"
            ],
            "application/vnd.jupyter.widget-view+json": {
              "version_major": 2,
              "version_minor": 0,
              "model_id": "b16e55dfcfba4bc296cc0a31e7d0924c"
            }
          },
          "metadata": {}
        },
        {
          "output_type": "display_data",
          "data": {
            "text/plain": [
              "config.json:   0%|          | 0.00/629 [00:00<?, ?B/s]"
            ],
            "application/vnd.jupyter.widget-view+json": {
              "version_major": 2,
              "version_minor": 0,
              "model_id": "a232f31e339c43e2ac21a4e4ed78d5f2"
            }
          },
          "metadata": {}
        },
        {
          "output_type": "display_data",
          "data": {
            "text/plain": [
              "vocab.txt:   0%|          | 0.00/232k [00:00<?, ?B/s]"
            ],
            "application/vnd.jupyter.widget-view+json": {
              "version_major": 2,
              "version_minor": 0,
              "model_id": "7fabc76c2ada46f084600bd20d4e53f1"
            }
          },
          "metadata": {}
        },
        {
          "output_type": "display_data",
          "data": {
            "text/plain": [
              "tokenizer.json:   0%|          | 0.00/466k [00:00<?, ?B/s]"
            ],
            "application/vnd.jupyter.widget-view+json": {
              "version_major": 2,
              "version_minor": 0,
              "model_id": "a12641e4239446e6a16983216696df36"
            }
          },
          "metadata": {}
        },
        {
          "output_type": "display_data",
          "data": {
            "text/plain": [
              "special_tokens_map.json:   0%|          | 0.00/112 [00:00<?, ?B/s]"
            ],
            "application/vnd.jupyter.widget-view+json": {
              "version_major": 2,
              "version_minor": 0,
              "model_id": "be0eadd52d8343b682f579ccfdf9ca38"
            }
          },
          "metadata": {}
        },
        {
          "output_type": "display_data",
          "data": {
            "text/plain": [
              "model.safetensors:   0%|          | 0.00/90.9M [00:00<?, ?B/s]"
            ],
            "application/vnd.jupyter.widget-view+json": {
              "version_major": 2,
              "version_minor": 0,
              "model_id": "3cf78162b9654c889148da2eacdecd2b"
            }
          },
          "metadata": {}
        },
        {
          "output_type": "stream",
          "name": "stdout",
          "text": [
            "Processing bert-base-uncased...\n"
          ]
        },
        {
          "output_type": "display_data",
          "data": {
            "text/plain": [
              "tokenizer_config.json:   0%|          | 0.00/48.0 [00:00<?, ?B/s]"
            ],
            "application/vnd.jupyter.widget-view+json": {
              "version_major": 2,
              "version_minor": 0,
              "model_id": "2cb5723e7d04498792d737f59d7ea7ee"
            }
          },
          "metadata": {}
        },
        {
          "output_type": "display_data",
          "data": {
            "text/plain": [
              "config.json:   0%|          | 0.00/570 [00:00<?, ?B/s]"
            ],
            "application/vnd.jupyter.widget-view+json": {
              "version_major": 2,
              "version_minor": 0,
              "model_id": "b2def4b0369b4a3da2c27f29245d7a99"
            }
          },
          "metadata": {}
        },
        {
          "output_type": "display_data",
          "data": {
            "text/plain": [
              "vocab.txt:   0%|          | 0.00/232k [00:00<?, ?B/s]"
            ],
            "application/vnd.jupyter.widget-view+json": {
              "version_major": 2,
              "version_minor": 0,
              "model_id": "08e380e559e0414abccc777a2328b194"
            }
          },
          "metadata": {}
        },
        {
          "output_type": "display_data",
          "data": {
            "text/plain": [
              "tokenizer.json:   0%|          | 0.00/466k [00:00<?, ?B/s]"
            ],
            "application/vnd.jupyter.widget-view+json": {
              "version_major": 2,
              "version_minor": 0,
              "model_id": "c7a5f1c158da4f769f7324fc5265e167"
            }
          },
          "metadata": {}
        },
        {
          "output_type": "display_data",
          "data": {
            "text/plain": [
              "model.safetensors:   0%|          | 0.00/440M [00:00<?, ?B/s]"
            ],
            "application/vnd.jupyter.widget-view+json": {
              "version_major": 2,
              "version_minor": 0,
              "model_id": "239835f876b4419faeec049f6d42c3fd"
            }
          },
          "metadata": {}
        },
        {
          "output_type": "stream",
          "name": "stdout",
          "text": [
            "Processing roberta-base...\n"
          ]
        },
        {
          "output_type": "display_data",
          "data": {
            "text/plain": [
              "tokenizer_config.json:   0%|          | 0.00/25.0 [00:00<?, ?B/s]"
            ],
            "application/vnd.jupyter.widget-view+json": {
              "version_major": 2,
              "version_minor": 0,
              "model_id": "388bf153d39345cea1a8659acef746ff"
            }
          },
          "metadata": {}
        },
        {
          "output_type": "display_data",
          "data": {
            "text/plain": [
              "config.json:   0%|          | 0.00/481 [00:00<?, ?B/s]"
            ],
            "application/vnd.jupyter.widget-view+json": {
              "version_major": 2,
              "version_minor": 0,
              "model_id": "f912f87701dc4a47833dd4c536e2d508"
            }
          },
          "metadata": {}
        },
        {
          "output_type": "display_data",
          "data": {
            "text/plain": [
              "vocab.json:   0%|          | 0.00/899k [00:00<?, ?B/s]"
            ],
            "application/vnd.jupyter.widget-view+json": {
              "version_major": 2,
              "version_minor": 0,
              "model_id": "5e63cd1e20b74a2daafaeee0dd20e9d0"
            }
          },
          "metadata": {}
        },
        {
          "output_type": "display_data",
          "data": {
            "text/plain": [
              "merges.txt:   0%|          | 0.00/456k [00:00<?, ?B/s]"
            ],
            "application/vnd.jupyter.widget-view+json": {
              "version_major": 2,
              "version_minor": 0,
              "model_id": "86bf535746754e159da29a038adeef50"
            }
          },
          "metadata": {}
        },
        {
          "output_type": "display_data",
          "data": {
            "text/plain": [
              "tokenizer.json:   0%|          | 0.00/1.36M [00:00<?, ?B/s]"
            ],
            "application/vnd.jupyter.widget-view+json": {
              "version_major": 2,
              "version_minor": 0,
              "model_id": "88f3fed32a5348b0bd0b5cbc08c4c668"
            }
          },
          "metadata": {}
        },
        {
          "output_type": "display_data",
          "data": {
            "text/plain": [
              "model.safetensors:   0%|          | 0.00/499M [00:00<?, ?B/s]"
            ],
            "application/vnd.jupyter.widget-view+json": {
              "version_major": 2,
              "version_minor": 0,
              "model_id": "14ca3048b82b43e8ac30dc29d4b8e299"
            }
          },
          "metadata": {}
        },
        {
          "output_type": "stream",
          "name": "stderr",
          "text": [
            "Some weights of RobertaModel were not initialized from the model checkpoint at roberta-base and are newly initialized: ['roberta.pooler.dense.bias', 'roberta.pooler.dense.weight']\n",
            "You should probably TRAIN this model on a down-stream task to be able to use it for predictions and inference.\n"
          ]
        },
        {
          "output_type": "stream",
          "name": "stdout",
          "text": [
            "Processing microsoft/deberta-v3-base...\n"
          ]
        },
        {
          "output_type": "display_data",
          "data": {
            "text/plain": [
              "tokenizer_config.json:   0%|          | 0.00/52.0 [00:00<?, ?B/s]"
            ],
            "application/vnd.jupyter.widget-view+json": {
              "version_major": 2,
              "version_minor": 0,
              "model_id": "de36f5fed0d9473c960495ab419adaed"
            }
          },
          "metadata": {}
        },
        {
          "output_type": "display_data",
          "data": {
            "text/plain": [
              "config.json:   0%|          | 0.00/579 [00:00<?, ?B/s]"
            ],
            "application/vnd.jupyter.widget-view+json": {
              "version_major": 2,
              "version_minor": 0,
              "model_id": "b565fc233e0c464b9ad43ba57a4afe6f"
            }
          },
          "metadata": {}
        },
        {
          "output_type": "display_data",
          "data": {
            "text/plain": [
              "spm.model:   0%|          | 0.00/2.46M [00:00<?, ?B/s]"
            ],
            "application/vnd.jupyter.widget-view+json": {
              "version_major": 2,
              "version_minor": 0,
              "model_id": "fe1e782cee5d42dba0d610bcccfe98d0"
            }
          },
          "metadata": {}
        },
        {
          "output_type": "stream",
          "name": "stderr",
          "text": [
            "/usr/local/lib/python3.11/dist-packages/transformers/convert_slow_tokenizer.py:561: UserWarning: The sentencepiece tokenizer that you are converting to a fast tokenizer uses the byte fallback option which is not implemented in the fast tokenizers. In practice this means that the fast version of the tokenizer can produce unknown tokens whereas the sentencepiece version would have converted these unknown tokens into a sequence of byte tokens matching the original piece of text.\n",
            "  warnings.warn(\n"
          ]
        },
        {
          "output_type": "display_data",
          "data": {
            "text/plain": [
              "pytorch_model.bin:   0%|          | 0.00/371M [00:00<?, ?B/s]"
            ],
            "application/vnd.jupyter.widget-view+json": {
              "version_major": 2,
              "version_minor": 0,
              "model_id": "590e0cea615a45c99f2d8ff4bb5d49c1"
            }
          },
          "metadata": {}
        },
        {
          "output_type": "display_data",
          "data": {
            "text/plain": [
              "model.safetensors:   0%|          | 0.00/371M [00:00<?, ?B/s]"
            ],
            "application/vnd.jupyter.widget-view+json": {
              "version_major": 2,
              "version_minor": 0,
              "model_id": "42a270fb2ae0471d8ead82777e4921b9"
            }
          },
          "metadata": {}
        }
      ]
    },
    {
      "cell_type": "markdown",
      "source": [
        "# Model Development"
      ],
      "metadata": {
        "id": "Jm9N1jgcKwHq"
      }
    },
    {
      "cell_type": "markdown",
      "source": [
        " ### using Base ensmble model as Decision tree"
      ],
      "metadata": {
        "id": "q_L1Db1CVTdh"
      }
    },
    {
      "cell_type": "code",
      "source": [
        "def train_and_evaluate(X, y, model_name=\"Model\"):\n",
        "    X_train, X_test, y_train, y_test = train_test_split(X, y, test_size=0.2, random_state=42)\n",
        "    clf = RandomForestClassifier(n_estimators=100, random_state=42)\n",
        "    clf.fit(X_train, y_train)\n",
        "\n",
        "    y_pred = clf.predict(X_test)\n",
        "    print(f\"--- {model_name} ---\")\n",
        "    print(\"Accuracy:\", accuracy_score(y_test, y_pred))\n",
        "    print(classification_report(y_test, y_pred))\n",
        "    return clf"
      ],
      "metadata": {
        "id": "PiiP90jJekaH"
      },
      "execution_count": null,
      "outputs": []
    },
    {
      "cell_type": "markdown",
      "source": [
        "#### compute similarity instead of using embeddings directly"
      ],
      "metadata": {
        "id": "LfiHzn4jSBoK"
      }
    },
    {
      "cell_type": "code",
      "source": [
        "# --- More complex similarity features ---\n",
        "def compute_advanced_similarity_features(q1_emb, q2_emb):\n",
        "    features = []\n",
        "    for q1, q2 in zip(q1_emb, q2_emb):\n",
        "        cos_sim = cosine_similarity(q1.reshape(1, -1), q2.reshape(1, -1))[0][0]\n",
        "        euc_dist = euclidean_distances(q1.reshape(1, -1), q2.reshape(1, -1))[0][0]\n",
        "        dot_prod = np.dot(q1, q2)\n",
        "        l1_dist = np.sum(np.abs(q1 - q2))\n",
        "        abs_diff = np.abs(q1 - q2)\n",
        "        sq_diff = (q1 - q2) ** 2\n",
        "\n",
        "        combined = np.concatenate((\n",
        "            [cos_sim, euc_dist, dot_prod, l1_dist],\n",
        "            abs_diff,\n",
        "            sq_diff\n",
        "        ))\n",
        "        features.append(combined)\n",
        "    return np.array(features)\n"
      ],
      "metadata": {
        "id": "s0KBjpL6L8YW"
      },
      "execution_count": null,
      "outputs": []
    },
    {
      "cell_type": "code",
      "source": [
        "# --- Build feature set from all models ---\n",
        "feature_list = []\n",
        "for model_name in models:\n",
        "    q1_emb, q2_emb = embedding_data[model_name]\n",
        "    features = compute_advanced_similarity_features(q1_emb, q2_emb)\n",
        "    feature_list.append(features)\n",
        "\n",
        "X = np.hstack(feature_list)\n",
        "y = dataset['label'][:1000]"
      ],
      "metadata": {
        "id": "JNOJlrMIL8bl"
      },
      "execution_count": null,
      "outputs": []
    },
    {
      "cell_type": "code",
      "source": [
        "# Train ensemble model\n",
        "X_train, X_test, y_train, y_test = train_test_split(X, y, test_size=0.2, random_state=42)\n",
        "clf = RandomForestClassifier(n_estimators=100, random_state=42)\n",
        "clf.fit(X_train, y_train)"
      ],
      "metadata": {
        "colab": {
          "base_uri": "https://localhost:8080/",
          "height": 80
        },
        "id": "cLG36W_WL8fZ",
        "outputId": "484d01d2-e8c5-44bf-bc40-5abcc88f1486"
      },
      "execution_count": null,
      "outputs": [
        {
          "output_type": "execute_result",
          "data": {
            "text/plain": [
              "RandomForestClassifier(random_state=42)"
            ],
            "text/html": [
              "<style>#sk-container-id-1 {\n",
              "  /* Definition of color scheme common for light and dark mode */\n",
              "  --sklearn-color-text: #000;\n",
              "  --sklearn-color-text-muted: #666;\n",
              "  --sklearn-color-line: gray;\n",
              "  /* Definition of color scheme for unfitted estimators */\n",
              "  --sklearn-color-unfitted-level-0: #fff5e6;\n",
              "  --sklearn-color-unfitted-level-1: #f6e4d2;\n",
              "  --sklearn-color-unfitted-level-2: #ffe0b3;\n",
              "  --sklearn-color-unfitted-level-3: chocolate;\n",
              "  /* Definition of color scheme for fitted estimators */\n",
              "  --sklearn-color-fitted-level-0: #f0f8ff;\n",
              "  --sklearn-color-fitted-level-1: #d4ebff;\n",
              "  --sklearn-color-fitted-level-2: #b3dbfd;\n",
              "  --sklearn-color-fitted-level-3: cornflowerblue;\n",
              "\n",
              "  /* Specific color for light theme */\n",
              "  --sklearn-color-text-on-default-background: var(--sg-text-color, var(--theme-code-foreground, var(--jp-content-font-color1, black)));\n",
              "  --sklearn-color-background: var(--sg-background-color, var(--theme-background, var(--jp-layout-color0, white)));\n",
              "  --sklearn-color-border-box: var(--sg-text-color, var(--theme-code-foreground, var(--jp-content-font-color1, black)));\n",
              "  --sklearn-color-icon: #696969;\n",
              "\n",
              "  @media (prefers-color-scheme: dark) {\n",
              "    /* Redefinition of color scheme for dark theme */\n",
              "    --sklearn-color-text-on-default-background: var(--sg-text-color, var(--theme-code-foreground, var(--jp-content-font-color1, white)));\n",
              "    --sklearn-color-background: var(--sg-background-color, var(--theme-background, var(--jp-layout-color0, #111)));\n",
              "    --sklearn-color-border-box: var(--sg-text-color, var(--theme-code-foreground, var(--jp-content-font-color1, white)));\n",
              "    --sklearn-color-icon: #878787;\n",
              "  }\n",
              "}\n",
              "\n",
              "#sk-container-id-1 {\n",
              "  color: var(--sklearn-color-text);\n",
              "}\n",
              "\n",
              "#sk-container-id-1 pre {\n",
              "  padding: 0;\n",
              "}\n",
              "\n",
              "#sk-container-id-1 input.sk-hidden--visually {\n",
              "  border: 0;\n",
              "  clip: rect(1px 1px 1px 1px);\n",
              "  clip: rect(1px, 1px, 1px, 1px);\n",
              "  height: 1px;\n",
              "  margin: -1px;\n",
              "  overflow: hidden;\n",
              "  padding: 0;\n",
              "  position: absolute;\n",
              "  width: 1px;\n",
              "}\n",
              "\n",
              "#sk-container-id-1 div.sk-dashed-wrapped {\n",
              "  border: 1px dashed var(--sklearn-color-line);\n",
              "  margin: 0 0.4em 0.5em 0.4em;\n",
              "  box-sizing: border-box;\n",
              "  padding-bottom: 0.4em;\n",
              "  background-color: var(--sklearn-color-background);\n",
              "}\n",
              "\n",
              "#sk-container-id-1 div.sk-container {\n",
              "  /* jupyter's `normalize.less` sets `[hidden] { display: none; }`\n",
              "     but bootstrap.min.css set `[hidden] { display: none !important; }`\n",
              "     so we also need the `!important` here to be able to override the\n",
              "     default hidden behavior on the sphinx rendered scikit-learn.org.\n",
              "     See: https://github.com/scikit-learn/scikit-learn/issues/21755 */\n",
              "  display: inline-block !important;\n",
              "  position: relative;\n",
              "}\n",
              "\n",
              "#sk-container-id-1 div.sk-text-repr-fallback {\n",
              "  display: none;\n",
              "}\n",
              "\n",
              "div.sk-parallel-item,\n",
              "div.sk-serial,\n",
              "div.sk-item {\n",
              "  /* draw centered vertical line to link estimators */\n",
              "  background-image: linear-gradient(var(--sklearn-color-text-on-default-background), var(--sklearn-color-text-on-default-background));\n",
              "  background-size: 2px 100%;\n",
              "  background-repeat: no-repeat;\n",
              "  background-position: center center;\n",
              "}\n",
              "\n",
              "/* Parallel-specific style estimator block */\n",
              "\n",
              "#sk-container-id-1 div.sk-parallel-item::after {\n",
              "  content: \"\";\n",
              "  width: 100%;\n",
              "  border-bottom: 2px solid var(--sklearn-color-text-on-default-background);\n",
              "  flex-grow: 1;\n",
              "}\n",
              "\n",
              "#sk-container-id-1 div.sk-parallel {\n",
              "  display: flex;\n",
              "  align-items: stretch;\n",
              "  justify-content: center;\n",
              "  background-color: var(--sklearn-color-background);\n",
              "  position: relative;\n",
              "}\n",
              "\n",
              "#sk-container-id-1 div.sk-parallel-item {\n",
              "  display: flex;\n",
              "  flex-direction: column;\n",
              "}\n",
              "\n",
              "#sk-container-id-1 div.sk-parallel-item:first-child::after {\n",
              "  align-self: flex-end;\n",
              "  width: 50%;\n",
              "}\n",
              "\n",
              "#sk-container-id-1 div.sk-parallel-item:last-child::after {\n",
              "  align-self: flex-start;\n",
              "  width: 50%;\n",
              "}\n",
              "\n",
              "#sk-container-id-1 div.sk-parallel-item:only-child::after {\n",
              "  width: 0;\n",
              "}\n",
              "\n",
              "/* Serial-specific style estimator block */\n",
              "\n",
              "#sk-container-id-1 div.sk-serial {\n",
              "  display: flex;\n",
              "  flex-direction: column;\n",
              "  align-items: center;\n",
              "  background-color: var(--sklearn-color-background);\n",
              "  padding-right: 1em;\n",
              "  padding-left: 1em;\n",
              "}\n",
              "\n",
              "\n",
              "/* Toggleable style: style used for estimator/Pipeline/ColumnTransformer box that is\n",
              "clickable and can be expanded/collapsed.\n",
              "- Pipeline and ColumnTransformer use this feature and define the default style\n",
              "- Estimators will overwrite some part of the style using the `sk-estimator` class\n",
              "*/\n",
              "\n",
              "/* Pipeline and ColumnTransformer style (default) */\n",
              "\n",
              "#sk-container-id-1 div.sk-toggleable {\n",
              "  /* Default theme specific background. It is overwritten whether we have a\n",
              "  specific estimator or a Pipeline/ColumnTransformer */\n",
              "  background-color: var(--sklearn-color-background);\n",
              "}\n",
              "\n",
              "/* Toggleable label */\n",
              "#sk-container-id-1 label.sk-toggleable__label {\n",
              "  cursor: pointer;\n",
              "  display: flex;\n",
              "  width: 100%;\n",
              "  margin-bottom: 0;\n",
              "  padding: 0.5em;\n",
              "  box-sizing: border-box;\n",
              "  text-align: center;\n",
              "  align-items: start;\n",
              "  justify-content: space-between;\n",
              "  gap: 0.5em;\n",
              "}\n",
              "\n",
              "#sk-container-id-1 label.sk-toggleable__label .caption {\n",
              "  font-size: 0.6rem;\n",
              "  font-weight: lighter;\n",
              "  color: var(--sklearn-color-text-muted);\n",
              "}\n",
              "\n",
              "#sk-container-id-1 label.sk-toggleable__label-arrow:before {\n",
              "  /* Arrow on the left of the label */\n",
              "  content: \"▸\";\n",
              "  float: left;\n",
              "  margin-right: 0.25em;\n",
              "  color: var(--sklearn-color-icon);\n",
              "}\n",
              "\n",
              "#sk-container-id-1 label.sk-toggleable__label-arrow:hover:before {\n",
              "  color: var(--sklearn-color-text);\n",
              "}\n",
              "\n",
              "/* Toggleable content - dropdown */\n",
              "\n",
              "#sk-container-id-1 div.sk-toggleable__content {\n",
              "  max-height: 0;\n",
              "  max-width: 0;\n",
              "  overflow: hidden;\n",
              "  text-align: left;\n",
              "  /* unfitted */\n",
              "  background-color: var(--sklearn-color-unfitted-level-0);\n",
              "}\n",
              "\n",
              "#sk-container-id-1 div.sk-toggleable__content.fitted {\n",
              "  /* fitted */\n",
              "  background-color: var(--sklearn-color-fitted-level-0);\n",
              "}\n",
              "\n",
              "#sk-container-id-1 div.sk-toggleable__content pre {\n",
              "  margin: 0.2em;\n",
              "  border-radius: 0.25em;\n",
              "  color: var(--sklearn-color-text);\n",
              "  /* unfitted */\n",
              "  background-color: var(--sklearn-color-unfitted-level-0);\n",
              "}\n",
              "\n",
              "#sk-container-id-1 div.sk-toggleable__content.fitted pre {\n",
              "  /* unfitted */\n",
              "  background-color: var(--sklearn-color-fitted-level-0);\n",
              "}\n",
              "\n",
              "#sk-container-id-1 input.sk-toggleable__control:checked~div.sk-toggleable__content {\n",
              "  /* Expand drop-down */\n",
              "  max-height: 200px;\n",
              "  max-width: 100%;\n",
              "  overflow: auto;\n",
              "}\n",
              "\n",
              "#sk-container-id-1 input.sk-toggleable__control:checked~label.sk-toggleable__label-arrow:before {\n",
              "  content: \"▾\";\n",
              "}\n",
              "\n",
              "/* Pipeline/ColumnTransformer-specific style */\n",
              "\n",
              "#sk-container-id-1 div.sk-label input.sk-toggleable__control:checked~label.sk-toggleable__label {\n",
              "  color: var(--sklearn-color-text);\n",
              "  background-color: var(--sklearn-color-unfitted-level-2);\n",
              "}\n",
              "\n",
              "#sk-container-id-1 div.sk-label.fitted input.sk-toggleable__control:checked~label.sk-toggleable__label {\n",
              "  background-color: var(--sklearn-color-fitted-level-2);\n",
              "}\n",
              "\n",
              "/* Estimator-specific style */\n",
              "\n",
              "/* Colorize estimator box */\n",
              "#sk-container-id-1 div.sk-estimator input.sk-toggleable__control:checked~label.sk-toggleable__label {\n",
              "  /* unfitted */\n",
              "  background-color: var(--sklearn-color-unfitted-level-2);\n",
              "}\n",
              "\n",
              "#sk-container-id-1 div.sk-estimator.fitted input.sk-toggleable__control:checked~label.sk-toggleable__label {\n",
              "  /* fitted */\n",
              "  background-color: var(--sklearn-color-fitted-level-2);\n",
              "}\n",
              "\n",
              "#sk-container-id-1 div.sk-label label.sk-toggleable__label,\n",
              "#sk-container-id-1 div.sk-label label {\n",
              "  /* The background is the default theme color */\n",
              "  color: var(--sklearn-color-text-on-default-background);\n",
              "}\n",
              "\n",
              "/* On hover, darken the color of the background */\n",
              "#sk-container-id-1 div.sk-label:hover label.sk-toggleable__label {\n",
              "  color: var(--sklearn-color-text);\n",
              "  background-color: var(--sklearn-color-unfitted-level-2);\n",
              "}\n",
              "\n",
              "/* Label box, darken color on hover, fitted */\n",
              "#sk-container-id-1 div.sk-label.fitted:hover label.sk-toggleable__label.fitted {\n",
              "  color: var(--sklearn-color-text);\n",
              "  background-color: var(--sklearn-color-fitted-level-2);\n",
              "}\n",
              "\n",
              "/* Estimator label */\n",
              "\n",
              "#sk-container-id-1 div.sk-label label {\n",
              "  font-family: monospace;\n",
              "  font-weight: bold;\n",
              "  display: inline-block;\n",
              "  line-height: 1.2em;\n",
              "}\n",
              "\n",
              "#sk-container-id-1 div.sk-label-container {\n",
              "  text-align: center;\n",
              "}\n",
              "\n",
              "/* Estimator-specific */\n",
              "#sk-container-id-1 div.sk-estimator {\n",
              "  font-family: monospace;\n",
              "  border: 1px dotted var(--sklearn-color-border-box);\n",
              "  border-radius: 0.25em;\n",
              "  box-sizing: border-box;\n",
              "  margin-bottom: 0.5em;\n",
              "  /* unfitted */\n",
              "  background-color: var(--sklearn-color-unfitted-level-0);\n",
              "}\n",
              "\n",
              "#sk-container-id-1 div.sk-estimator.fitted {\n",
              "  /* fitted */\n",
              "  background-color: var(--sklearn-color-fitted-level-0);\n",
              "}\n",
              "\n",
              "/* on hover */\n",
              "#sk-container-id-1 div.sk-estimator:hover {\n",
              "  /* unfitted */\n",
              "  background-color: var(--sklearn-color-unfitted-level-2);\n",
              "}\n",
              "\n",
              "#sk-container-id-1 div.sk-estimator.fitted:hover {\n",
              "  /* fitted */\n",
              "  background-color: var(--sklearn-color-fitted-level-2);\n",
              "}\n",
              "\n",
              "/* Specification for estimator info (e.g. \"i\" and \"?\") */\n",
              "\n",
              "/* Common style for \"i\" and \"?\" */\n",
              "\n",
              ".sk-estimator-doc-link,\n",
              "a:link.sk-estimator-doc-link,\n",
              "a:visited.sk-estimator-doc-link {\n",
              "  float: right;\n",
              "  font-size: smaller;\n",
              "  line-height: 1em;\n",
              "  font-family: monospace;\n",
              "  background-color: var(--sklearn-color-background);\n",
              "  border-radius: 1em;\n",
              "  height: 1em;\n",
              "  width: 1em;\n",
              "  text-decoration: none !important;\n",
              "  margin-left: 0.5em;\n",
              "  text-align: center;\n",
              "  /* unfitted */\n",
              "  border: var(--sklearn-color-unfitted-level-1) 1pt solid;\n",
              "  color: var(--sklearn-color-unfitted-level-1);\n",
              "}\n",
              "\n",
              ".sk-estimator-doc-link.fitted,\n",
              "a:link.sk-estimator-doc-link.fitted,\n",
              "a:visited.sk-estimator-doc-link.fitted {\n",
              "  /* fitted */\n",
              "  border: var(--sklearn-color-fitted-level-1) 1pt solid;\n",
              "  color: var(--sklearn-color-fitted-level-1);\n",
              "}\n",
              "\n",
              "/* On hover */\n",
              "div.sk-estimator:hover .sk-estimator-doc-link:hover,\n",
              ".sk-estimator-doc-link:hover,\n",
              "div.sk-label-container:hover .sk-estimator-doc-link:hover,\n",
              ".sk-estimator-doc-link:hover {\n",
              "  /* unfitted */\n",
              "  background-color: var(--sklearn-color-unfitted-level-3);\n",
              "  color: var(--sklearn-color-background);\n",
              "  text-decoration: none;\n",
              "}\n",
              "\n",
              "div.sk-estimator.fitted:hover .sk-estimator-doc-link.fitted:hover,\n",
              ".sk-estimator-doc-link.fitted:hover,\n",
              "div.sk-label-container:hover .sk-estimator-doc-link.fitted:hover,\n",
              ".sk-estimator-doc-link.fitted:hover {\n",
              "  /* fitted */\n",
              "  background-color: var(--sklearn-color-fitted-level-3);\n",
              "  color: var(--sklearn-color-background);\n",
              "  text-decoration: none;\n",
              "}\n",
              "\n",
              "/* Span, style for the box shown on hovering the info icon */\n",
              ".sk-estimator-doc-link span {\n",
              "  display: none;\n",
              "  z-index: 9999;\n",
              "  position: relative;\n",
              "  font-weight: normal;\n",
              "  right: .2ex;\n",
              "  padding: .5ex;\n",
              "  margin: .5ex;\n",
              "  width: min-content;\n",
              "  min-width: 20ex;\n",
              "  max-width: 50ex;\n",
              "  color: var(--sklearn-color-text);\n",
              "  box-shadow: 2pt 2pt 4pt #999;\n",
              "  /* unfitted */\n",
              "  background: var(--sklearn-color-unfitted-level-0);\n",
              "  border: .5pt solid var(--sklearn-color-unfitted-level-3);\n",
              "}\n",
              "\n",
              ".sk-estimator-doc-link.fitted span {\n",
              "  /* fitted */\n",
              "  background: var(--sklearn-color-fitted-level-0);\n",
              "  border: var(--sklearn-color-fitted-level-3);\n",
              "}\n",
              "\n",
              ".sk-estimator-doc-link:hover span {\n",
              "  display: block;\n",
              "}\n",
              "\n",
              "/* \"?\"-specific style due to the `<a>` HTML tag */\n",
              "\n",
              "#sk-container-id-1 a.estimator_doc_link {\n",
              "  float: right;\n",
              "  font-size: 1rem;\n",
              "  line-height: 1em;\n",
              "  font-family: monospace;\n",
              "  background-color: var(--sklearn-color-background);\n",
              "  border-radius: 1rem;\n",
              "  height: 1rem;\n",
              "  width: 1rem;\n",
              "  text-decoration: none;\n",
              "  /* unfitted */\n",
              "  color: var(--sklearn-color-unfitted-level-1);\n",
              "  border: var(--sklearn-color-unfitted-level-1) 1pt solid;\n",
              "}\n",
              "\n",
              "#sk-container-id-1 a.estimator_doc_link.fitted {\n",
              "  /* fitted */\n",
              "  border: var(--sklearn-color-fitted-level-1) 1pt solid;\n",
              "  color: var(--sklearn-color-fitted-level-1);\n",
              "}\n",
              "\n",
              "/* On hover */\n",
              "#sk-container-id-1 a.estimator_doc_link:hover {\n",
              "  /* unfitted */\n",
              "  background-color: var(--sklearn-color-unfitted-level-3);\n",
              "  color: var(--sklearn-color-background);\n",
              "  text-decoration: none;\n",
              "}\n",
              "\n",
              "#sk-container-id-1 a.estimator_doc_link.fitted:hover {\n",
              "  /* fitted */\n",
              "  background-color: var(--sklearn-color-fitted-level-3);\n",
              "}\n",
              "</style><div id=\"sk-container-id-1\" class=\"sk-top-container\"><div class=\"sk-text-repr-fallback\"><pre>RandomForestClassifier(random_state=42)</pre><b>In a Jupyter environment, please rerun this cell to show the HTML representation or trust the notebook. <br />On GitHub, the HTML representation is unable to render, please try loading this page with nbviewer.org.</b></div><div class=\"sk-container\" hidden><div class=\"sk-item\"><div class=\"sk-estimator fitted sk-toggleable\"><input class=\"sk-toggleable__control sk-hidden--visually\" id=\"sk-estimator-id-1\" type=\"checkbox\" checked><label for=\"sk-estimator-id-1\" class=\"sk-toggleable__label fitted sk-toggleable__label-arrow\"><div><div>RandomForestClassifier</div></div><div><a class=\"sk-estimator-doc-link fitted\" rel=\"noreferrer\" target=\"_blank\" href=\"https://scikit-learn.org/1.6/modules/generated/sklearn.ensemble.RandomForestClassifier.html\">?<span>Documentation for RandomForestClassifier</span></a><span class=\"sk-estimator-doc-link fitted\">i<span>Fitted</span></span></div></label><div class=\"sk-toggleable__content fitted\"><pre>RandomForestClassifier(random_state=42)</pre></div> </div></div></div></div>"
            ]
          },
          "metadata": {},
          "execution_count": 9
        }
      ]
    },
    {
      "cell_type": "code",
      "execution_count": null,
      "metadata": {
        "colab": {
          "base_uri": "https://localhost:8080/"
        },
        "id": "MfPU0Nx3LQGq",
        "outputId": "ada29d96-96ca-4bef-ee28-1f2eaa9caa96"
      },
      "outputs": [
        {
          "output_type": "stream",
          "name": "stdout",
          "text": [
            "Accuracy: 0.78\n",
            "              precision    recall  f1-score   support\n",
            "\n",
            "           0       0.81      0.87      0.84       133\n",
            "           1       0.70      0.60      0.65        67\n",
            "\n",
            "    accuracy                           0.78       200\n",
            "   macro avg       0.76      0.73      0.74       200\n",
            "weighted avg       0.77      0.78      0.78       200\n",
            "\n"
          ]
        }
      ],
      "source": [
        "# Evaluate\n",
        "y_pred = clf.predict(X_test)\n",
        "print(\"Accuracy:\", accuracy_score(y_test, y_pred))\n",
        "print(classification_report(y_test, y_pred))"
      ]
    },
    {
      "cell_type": "code",
      "source": [
        "# Save model\n",
        "with open(\"ensemble_model.pkl\", \"wb\") as f:\n",
        "    pickle.dump(clf, f)"
      ],
      "metadata": {
        "id": "CYfsqYsgMDsO"
      },
      "execution_count": null,
      "outputs": []
    },
    {
      "cell_type": "markdown",
      "source": [
        "#### Use embeddings directly"
      ],
      "metadata": {
        "id": "rKfA19UnSIvR"
      }
    },
    {
      "cell_type": "code",
      "source": [
        "full_embeddings = []\n",
        "for model_name in models:\n",
        "    q1_emb, q2_emb = embedding_data[model_name]\n",
        "    full_embeddings.append(np.hstack((q1_emb, q2_emb)))  # Direct concatenation\n",
        "\n",
        "X = np.hstack(full_embeddings)  # Final feature vector (High Dimensional)\n",
        "\n",
        "# Train Random Forest on full embeddings\n",
        "X_train, X_test, y_train, y_test = train_test_split(X, y, test_size=0.2, random_state=42)\n",
        "clf = RandomForestClassifier(n_estimators=100, random_state=42)\n",
        "clf.fit(X_train, y_train)\n",
        "\n",
        "# Evaluate model\n",
        "y_pred = clf.predict(X_test)\n",
        "print(\"Accuracy:\", accuracy_score(y_test, y_pred))\n",
        "print(classification_report(y_test, y_pred))"
      ],
      "metadata": {
        "colab": {
          "base_uri": "https://localhost:8080/"
        },
        "id": "zo1P697ESI5q",
        "outputId": "cbf0e5be-8c45-49a9-bcbd-c2c2e554cbbd"
      },
      "execution_count": null,
      "outputs": [
        {
          "output_type": "stream",
          "name": "stdout",
          "text": [
            "Accuracy: 0.69\n",
            "              precision    recall  f1-score   support\n",
            "\n",
            "           0       0.69      0.96      0.81       133\n",
            "           1       0.67      0.15      0.24        67\n",
            "\n",
            "    accuracy                           0.69       200\n",
            "   macro avg       0.68      0.56      0.52       200\n",
            "weighted avg       0.68      0.69      0.62       200\n",
            "\n"
          ]
        }
      ]
    },
    {
      "cell_type": "code",
      "source": [
        "X.shape"
      ],
      "metadata": {
        "colab": {
          "base_uri": "https://localhost:8080/"
        },
        "id": "gVpfIHiCJWKP",
        "outputId": "90549d18-c350-43e6-deb9-0125e23b3727"
      },
      "execution_count": null,
      "outputs": [
        {
          "output_type": "execute_result",
          "data": {
            "text/plain": [
              "(1000, 500)"
            ]
          },
          "metadata": {},
          "execution_count": 19
        }
      ]
    },
    {
      "cell_type": "code",
      "source": [
        "# Save model\n",
        "with open(\"ensemble_model_concat.pkl\", \"wb\") as f:\n",
        "    pickle.dump(clf, f)"
      ],
      "metadata": {
        "id": "5EsMygqFTBnL"
      },
      "execution_count": null,
      "outputs": []
    },
    {
      "cell_type": "markdown",
      "source": [
        "#### using CCA"
      ],
      "metadata": {
        "id": "0wBRVm1vTK5U"
      }
    },
    {
      "cell_type": "code",
      "source": [
        "from sklearn.cross_decomposition import CCA"
      ],
      "metadata": {
        "id": "1BlWQkdITeyt"
      },
      "execution_count": null,
      "outputs": []
    },
    {
      "cell_type": "code",
      "source": [
        "# Apply Canonical Correlation Analysis (CCA) to reduce redundancy\n",
        "full_embeddings_q1 = []\n",
        "full_embeddings_q2 = []\n",
        "for model_name in models:\n",
        "    q1_emb, q2_emb = embedding_data[model_name]\n",
        "    full_embeddings_q1.append(q1_emb)\n",
        "    full_embeddings_q2.append(q2_emb)\n",
        "\n",
        "X_q1 = np.hstack(full_embeddings_q1)\n",
        "X_q2 = np.hstack(full_embeddings_q2)\n",
        "\n",
        "cca = CCA(n_components=250)  # Reduce to 50 dimensions (can be tuned)\n",
        "X_q1_cca, X_q2_cca = cca.fit_transform(X_q1, X_q2)\n",
        "\n",
        "X = np.hstack((X_q1_cca, X_q2_cca))  # Final feature vector after CCA\n",
        "y = dataset['label'][:1000]\n",
        "\n",
        "# Train ensemble model\n",
        "X_train, X_test, y_train, y_test = train_test_split(X, y, test_size=0.2, random_state=42)\n",
        "clf = RandomForestClassifier(n_estimators=100, random_state=42)\n",
        "clf.fit(X_train, y_train)\n",
        "\n",
        "# Evaluate\n",
        "y_pred = clf.predict(X_test)\n",
        "print(\"Accuracy:\", accuracy_score(y_test, y_pred))\n",
        "print(classification_report(y_test, y_pred))\n",
        "\n",
        "# Save model\n",
        "with open(\"ensemble_model_CCA.pkl\", \"wb\") as f:\n",
        "    pickle.dump(clf, f)"
      ],
      "metadata": {
        "colab": {
          "base_uri": "https://localhost:8080/"
        },
        "id": "RbhFXGn6TLRM",
        "outputId": "bd83aae1-d1d0-4e34-d538-1c18458ed184"
      },
      "execution_count": null,
      "outputs": [
        {
          "output_type": "stream",
          "name": "stderr",
          "text": [
            "/usr/local/lib/python3.11/dist-packages/sklearn/cross_decomposition/_pls.py:113: ConvergenceWarning: Maximum number of iterations reached\n",
            "  warnings.warn(\"Maximum number of iterations reached\", ConvergenceWarning)\n"
          ]
        },
        {
          "output_type": "stream",
          "name": "stdout",
          "text": [
            "Accuracy: 0.675\n",
            "              precision    recall  f1-score   support\n",
            "\n",
            "           0       0.67      1.00      0.80       133\n",
            "           1       1.00      0.03      0.06        67\n",
            "\n",
            "    accuracy                           0.68       200\n",
            "   macro avg       0.84      0.51      0.43       200\n",
            "weighted avg       0.78      0.68      0.55       200\n",
            "\n"
          ]
        }
      ]
    },
    {
      "cell_type": "code",
      "source": [
        "X_q1_cca.shape\n"
      ],
      "metadata": {
        "colab": {
          "base_uri": "https://localhost:8080/"
        },
        "id": "n8rdaQM_KZHl",
        "outputId": "6edaa73d-ef94-4bad-c2e8-16dca3763fb8"
      },
      "execution_count": null,
      "outputs": [
        {
          "output_type": "execute_result",
          "data": {
            "text/plain": [
              "(1000, 50)"
            ]
          },
          "metadata": {},
          "execution_count": 21
        }
      ]
    },
    {
      "cell_type": "code",
      "source": [
        "# Save the transformed embeddings as NumPy files\n",
        "np.save(\"X_q1_cca.npy\", X_q1_cca)\n",
        "np.save(\"X_q2_cca.npy\", X_q2_cca)\n",
        "np.save(\"X_cca.npy\", X)  # Final combined feature vector\n",
        "np.save(\"y_labels.npy\", y)  # Labels"
      ],
      "metadata": {
        "id": "4LVR32zQUPgY"
      },
      "execution_count": null,
      "outputs": []
    },
    {
      "cell_type": "markdown",
      "source": [
        "### using Base ensmble model as Logistic Regression"
      ],
      "metadata": {
        "id": "wTUPWp-jZepn"
      }
    },
    {
      "cell_type": "code",
      "source": [],
      "metadata": {
        "id": "jTSjz584ZoLA"
      },
      "execution_count": null,
      "outputs": []
    },
    {
      "cell_type": "markdown",
      "source": [
        "# Model Testing"
      ],
      "metadata": {
        "id": "MA97Ep_YK0kz"
      }
    }
  ],
  "metadata": {
    "colab": {
      "toc_visible": true,
      "provenance": [],
      "include_colab_link": true
    },
    "kernelspec": {
      "display_name": "Python 3",
      "name": "python3"
    }
  },
  "nbformat": 4,
  "nbformat_minor": 0
}